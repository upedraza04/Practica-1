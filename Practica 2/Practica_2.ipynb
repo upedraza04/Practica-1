{
  "nbformat": 4,
  "nbformat_minor": 0,
  "metadata": {
    "colab": {
      "provenance": []
    },
    "kernelspec": {
      "name": "python3",
      "display_name": "Python 3"
    },
    "language_info": {
      "name": "python"
    }
  },
  "cells": [
    {
      "cell_type": "code",
      "source": [
        "from keras.datasets import mnist\n",
        "import numpy as np\n",
        "\n",
        "(x_train, y_train), (x_test, y_test) = mnist.load_data()\n",
        "\n",
        "# Se obtiene una muestra con igual número de: cincos vs no cincos\n",
        "# para el conjunto de entrenamiento y el de test\n",
        "idx_y_train_5 = np.where(y_train == 5)[0]\n",
        "idx_y_train_n5 = np.where(y_train != 5)[0]\n",
        "idx_y_train_n5 = np.random.choice(idx_y_train_n5, idx_y_train_5.shape[0], replace=False)\n",
        "\n",
        "idx_y_train = np.concatenate([idx_y_train_5, idx_y_train_n5])\n",
        "np.random.shuffle(idx_y_train)\n",
        "\n",
        "x_train = x_train[idx_y_train]\n",
        "y_train = y_train[idx_y_train]\n",
        "print(x_train.shape)\n",
        "\n",
        "idx_y_test_5 = np.where(y_test == 5)[0]\n",
        "idx_y_test_n5 = np.where(y_test != 5)[0]\n",
        "idx_y_test_n5 = np.random.choice(idx_y_test_n5, idx_y_test_5.shape[0], replace=False)\n",
        "\n",
        "idx_y_test = np.concatenate([idx_y_test_5, idx_y_test_n5])\n",
        "np.random.shuffle(idx_y_test)\n",
        "\n",
        "x_test = x_test[idx_y_test]\n",
        "y_test = y_test[idx_y_test]\n",
        "print(x_test.shape)\n",
        "\n",
        "y_train_binary = (y_train == 5).astype(int)\n",
        "y_test_binary = (y_test == 5).astype(int)"
      ],
      "metadata": {
        "id": "50CNad4MEsHq",
        "colab": {
          "base_uri": "https://localhost:8080/"
        },
        "outputId": "95651003-709f-4ecc-895d-f296c8d4bd12"
      },
      "execution_count": 1,
      "outputs": [
        {
          "output_type": "stream",
          "name": "stdout",
          "text": [
            "Downloading data from https://storage.googleapis.com/tensorflow/tf-keras-datasets/mnist.npz\n",
            "11490434/11490434 [==============================] - 0s 0us/step\n",
            "(10842, 28, 28)\n",
            "(1784, 28, 28)\n"
          ]
        }
      ]
    },
    {
      "cell_type": "code",
      "source": [
        "from keras.models import Sequential\n",
        "from keras.layers import Flatten, Dense\n",
        "from keras.metrics import F1Score\n",
        "\n",
        "model = Sequential([\n",
        "    Flatten(input_shape=(28, 28)),\n",
        "    Dense(1)\n",
        "])\n",
        "\n",
        "print(model.summary())\n",
        "\n",
        "model.compile(loss='binary_crossentropy', metrics=['accuracy'])\n",
        "model.fit(x_train, y_train_binary, epochs = 15, batch_size = 250, validation_split = 0.1)"
      ],
      "metadata": {
        "id": "3aBy0CQvHcT9",
        "colab": {
          "base_uri": "https://localhost:8080/"
        },
        "outputId": "6055b205-ad2e-4cf6-9f57-7974f0b5b673"
      },
      "execution_count": 11,
      "outputs": [
        {
          "output_type": "stream",
          "name": "stdout",
          "text": [
            "Model: \"sequential_5\"\n",
            "_________________________________________________________________\n",
            " Layer (type)                Output Shape              Param #   \n",
            "=================================================================\n",
            " flatten_5 (Flatten)         (None, 784)               0         \n",
            "                                                                 \n",
            " dense_5 (Dense)             (None, 1)                 785       \n",
            "                                                                 \n",
            "=================================================================\n",
            "Total params: 785 (3.07 KB)\n",
            "Trainable params: 785 (3.07 KB)\n",
            "Non-trainable params: 0 (0.00 Byte)\n",
            "_________________________________________________________________\n",
            "None\n",
            "Epoch 1/20\n",
            "40/40 [==============================] - 1s 6ms/step - loss: 6.8035 - accuracy: 0.5543 - val_loss: 6.7013 - val_accuracy: 0.5622\n",
            "Epoch 2/20\n",
            "40/40 [==============================] - 0s 3ms/step - loss: 6.0436 - accuracy: 0.6048 - val_loss: 5.7297 - val_accuracy: 0.6267\n",
            "Epoch 3/20\n",
            "40/40 [==============================] - 0s 3ms/step - loss: 5.0930 - accuracy: 0.6658 - val_loss: 4.8405 - val_accuracy: 0.6820\n",
            "Epoch 4/20\n",
            "40/40 [==============================] - 0s 3ms/step - loss: 4.5023 - accuracy: 0.7057 - val_loss: 4.8307 - val_accuracy: 0.6839\n",
            "Epoch 5/20\n",
            "40/40 [==============================] - 0s 3ms/step - loss: 4.4230 - accuracy: 0.7112 - val_loss: 4.5086 - val_accuracy: 0.7060\n",
            "Epoch 6/20\n",
            "40/40 [==============================] - 0s 3ms/step - loss: 4.1178 - accuracy: 0.7304 - val_loss: 4.0057 - val_accuracy: 0.7382\n",
            "Epoch 7/20\n",
            "40/40 [==============================] - 0s 2ms/step - loss: 3.7250 - accuracy: 0.7563 - val_loss: 4.0813 - val_accuracy: 0.7336\n",
            "Epoch 8/20\n",
            "40/40 [==============================] - 0s 2ms/step - loss: 3.6788 - accuracy: 0.7585 - val_loss: 3.7152 - val_accuracy: 0.7576\n",
            "Epoch 9/20\n",
            "40/40 [==============================] - 0s 2ms/step - loss: 3.3939 - accuracy: 0.7777 - val_loss: 3.4046 - val_accuracy: 0.7770\n",
            "Epoch 10/20\n",
            "40/40 [==============================] - 0s 2ms/step - loss: 3.0973 - accuracy: 0.7977 - val_loss: 3.1101 - val_accuracy: 0.7963\n",
            "Epoch 11/20\n",
            "40/40 [==============================] - 0s 2ms/step - loss: 2.7604 - accuracy: 0.8190 - val_loss: 2.6908 - val_accuracy: 0.8249\n",
            "Epoch 12/20\n",
            "40/40 [==============================] - 0s 2ms/step - loss: 2.6789 - accuracy: 0.8245 - val_loss: 2.4495 - val_accuracy: 0.8396\n",
            "Epoch 13/20\n",
            "40/40 [==============================] - 0s 2ms/step - loss: 2.7872 - accuracy: 0.8185 - val_loss: 2.5406 - val_accuracy: 0.8350\n",
            "Epoch 14/20\n",
            "40/40 [==============================] - 0s 2ms/step - loss: 2.4002 - accuracy: 0.8428 - val_loss: 2.3793 - val_accuracy: 0.8442\n",
            "Epoch 15/20\n",
            "40/40 [==============================] - 0s 2ms/step - loss: 2.4268 - accuracy: 0.8415 - val_loss: 2.2252 - val_accuracy: 0.8544\n",
            "Epoch 16/20\n",
            "40/40 [==============================] - 0s 2ms/step - loss: 2.2927 - accuracy: 0.8503 - val_loss: 2.2216 - val_accuracy: 0.8535\n",
            "Epoch 17/20\n",
            "40/40 [==============================] - 0s 2ms/step - loss: 2.3786 - accuracy: 0.8439 - val_loss: 2.1365 - val_accuracy: 0.8608\n",
            "Epoch 18/20\n",
            "40/40 [==============================] - 0s 2ms/step - loss: 2.3067 - accuracy: 0.8483 - val_loss: 2.3628 - val_accuracy: 0.8452\n",
            "Epoch 19/20\n",
            "40/40 [==============================] - 0s 2ms/step - loss: 2.3317 - accuracy: 0.8474 - val_loss: 2.5110 - val_accuracy: 0.8359\n",
            "Epoch 20/20\n",
            "40/40 [==============================] - 0s 2ms/step - loss: 2.2194 - accuracy: 0.8548 - val_loss: 2.0798 - val_accuracy: 0.8645\n"
          ]
        },
        {
          "output_type": "execute_result",
          "data": {
            "text/plain": [
              "<keras.src.callbacks.History at 0x7fc1b86dc070>"
            ]
          },
          "metadata": {},
          "execution_count": 11
        }
      ]
    },
    {
      "cell_type": "code",
      "source": [
        "from sklearn.metrics import confusion_matrix, \\\n",
        "precision_score, recall_score,f1_score\n",
        "\n",
        "y_pred = (model.predict(x_test) >= 0.5).astype(int)[:,0]\n",
        "\n",
        "conf_matrix = confusion_matrix(y_test_binary, y_pred)\n",
        "print(\"Matriz de confusión:\")\n",
        "print(conf_matrix)\n",
        "\n",
        "precision = precision_score(y_test_binary, y_pred)\n",
        "print(\"Precision_1:\", precision)\n",
        "recall = recall_score(y_test_binary, y_pred)\n",
        "print(\"Recall_1:\", recall)\n",
        "f1_s = f1_score(y_test_binary, y_pred)\n",
        "print(\"F1-score_1:\", f1_s)\n",
        "\n",
        "\n",
        "precision_0 = precision_score(y_test_binary, y_pred, pos_label=0)\n",
        "print(\"Precision_0:\", precision_0)\n",
        "recall_0 = recall_score(y_test_binary, y_pred, pos_label=0)\n",
        "print(\"Recall_0:\", recall_0)\n",
        "f1_s_0 = f1_score(y_test_binary, y_pred, pos_label=0)\n",
        "print(\"F1-score_0:\", f1_s_0)"
      ],
      "metadata": {
        "id": "Bcb43x96H6xD",
        "colab": {
          "base_uri": "https://localhost:8080/"
        },
        "outputId": "30ab1352-d946-4b63-e560-baf1350e8a04"
      },
      "execution_count": 12,
      "outputs": [
        {
          "output_type": "stream",
          "name": "stdout",
          "text": [
            "56/56 [==============================] - 0s 1ms/step\n",
            "Matriz de confusión:\n",
            "[[798  94]\n",
            " [136 756]]\n",
            "Precision_1: 0.8894117647058823\n",
            "Recall_1: 0.8475336322869955\n",
            "F1-score_1: 0.8679678530424799\n",
            "Precision_0: 0.854389721627409\n",
            "Recall_0: 0.8946188340807175\n",
            "F1-score_0: 0.8740416210295728\n"
          ]
        }
      ]
    },
    {
      "cell_type": "markdown",
      "source": [
        "### Reporte de entrenamientos\n",
        "\n",
        "Entrenamiento 1:\n",
        "epochs = 4, batch size = 2000, validation split = 0.9\n",
        "\n",
        "\n",
        "val_accuracy: 0.5275\n",
        "\n",
        "Precision_1: 0.5208078335373317\n",
        "\n",
        "Recall_1: 0.9540358744394619\n",
        "\n",
        "F1-score_1: 0.6737925574030088\n",
        "\n",
        "accuracy: 0.5424\n",
        "\n",
        "Precision_0: 0.5197066911090742\n",
        "\n",
        "Recall_0: 0.6356502242152466\n",
        "\n",
        "F1-score_0: 0.5718608169440241\n",
        "\n",
        "Entrenamiento 2:\n",
        "epochs = 20, batch size = 2000, validation split = 0.9\n",
        "\n",
        "val_accuracy: 0.6634\n",
        "\n",
        "Precision_1: 0.56118754525706\n",
        "\n",
        "Recall_1: 0.8688340807174888\n",
        "\n",
        "F1-score_1: 0.6819181698196216\n",
        "\n",
        "accuracy: 0.6605\n",
        "\n",
        "Precision_0: 0.5197066911090742\n",
        "\n",
        "Recall_0: 0.6356502242152466\n",
        "\n",
        "F1-score_0: 0.5718608169440241\n",
        "\n",
        "Entrenamiento 3:\n",
        "epochs = 4, batch size = 2, validation split = 0.9\n",
        "\n",
        "val_accuracy: 0.5101\n",
        "\n",
        "Precision_1: 0.5632911392405063\n",
        "\n",
        "Recall_1: 0.19955156950672645\n",
        "\n",
        "F1-score_1: 0.29470198675496684\n",
        "\n",
        "accuracy: 0.5138\n",
        "\n",
        "Precision_0: 0.5136239782016349\n",
        "\n",
        "Recall_0: 0.8452914798206278\n",
        "\n",
        "F1-score_0: 0.6389830508474575\n",
        "\n",
        "Entrenamiento 4:\n",
        "epochs = 4, batch size = 2000, validation split = 0.01\n",
        "\n",
        "val_accuracy: 0.6147\n",
        "\n",
        "precision_1: 0.7042577675489068\n",
        "\n",
        "Recall_1: 0.6860986547085202\n",
        "\n",
        "F1-score_1: 0.6950596252129472\n",
        "\n",
        "accuracy 0.62902\n",
        "\n",
        "Precision_0: 0.6939890710382514\n",
        "\n",
        "Recall_0: 0.7118834080717489\n",
        "\n",
        "F1-score_0: 0.7028223574986165\n",
        "\n"
      ],
      "metadata": {
        "id": "_bxQlzxpwFWT"
      }
    },
    {
      "cell_type": "markdown",
      "source": [
        "Entrenamiento 5\n",
        "\n",
        "Buscar un entrenamiento de estos paramétros que optimize las métricas.\n",
        "\n",
        "1. ephocs = 10, batch_size = 500, validation_split = 0.2 porque es el estándar.\n",
        "2. El accuracy fue de 0.688 y val_accuracy de 0.6782. Modificamos el batch size para buscar optimizar las métricas. ephocs = 10, batch_size = 250, validation_split = 0.2.\n",
        "Se obtuvieron los siguientes resultados accuracy: 0.7753, val_accuracy: 0.7381, Precision_1: 0.8345642540620384,\n",
        "Recall_1: 0.6334080717488789,\n",
        "F1-score_1: 0.7202039515615041,\n",
        "Precision_0: 0.7046070460704607,\n",
        "Recall_0: 0.874439461883408,\n",
        "F1-score_0: 0.7803901950975488\n",
        "3. Se usa un conjunto de entrenamiento mayor para que el modelo pueda entrenar con más ejemplos. ephocs = 10, batch_size = 250, validation_split = 0.1. Se obtuvieron los siguientes resultados accuracy: 0.8230, val_accuracy: 0.7806, Precision_1: 0.733920704845815,\n",
        "Recall_1: 0.9338565022421524,\n",
        "F1-score_1: 0.8219042920572274,\n",
        "Precision_0: 0.9090909090909091,\n",
        "Recall_0: 0.6614349775784754,\n",
        "F1-score_0: 0.7657365347177157\n",
        "4. Se aumenta el número de epócas para intentar mejorar el entrenamiento.\n",
        "ephocs = 15, batch_size = 250, validation_split = 0.1. Se obtuvieron los siguientes resultados accuracy: 0.8555, val_accuracy: 0.8507, Precision_1: 0.733920704845815,\n",
        "Recall_1: 0.9338565022421524,\n",
        "F1-score_1: 0.8219042920572274,\n",
        "Precision_0: 0.9090909090909091,\n",
        "Recall_0: 0.6614349775784754,\n",
        "F1-score_0: 0.7657365347177157\n",
        "5. Se aumenta el número de epocas. ephocs = 20, batch_size = 250, validation_split = 0.1. Se obtuvieron los siguientes resultados accuracy: 0.8548 val_accuracy: 0.8645, Precision_1: 0.8894117647058823,\n",
        "Recall_1: 0.8475336322869955,\n",
        "F1-score_1: 0.8679678530424799,\n",
        "Precision_0: 0.854389721627409,\n",
        "Recall_0: 0.8946188340807175,\n",
        "F1-score_0: 0.8740416210295728,\n"
      ],
      "metadata": {
        "id": "E8GWj68YWVYf"
      }
    }
  ]
}